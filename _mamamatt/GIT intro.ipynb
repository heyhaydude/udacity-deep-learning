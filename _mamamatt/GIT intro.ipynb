{
 "cells": [
  {
   "cell_type": "markdown",
   "metadata": {
    "nbpresent": {
     "id": "4f109257-9c80-4218-834d-4db715235508"
    }
   },
   "source": [
    "# Why is GIT so Badass?\n",
    "\n",
    "1. Share - let teammates see your code easily\n",
    "2. Backup - don't worry about losing hours of work if you push your code regularly\n",
    "3. Restore points - Take snapshots of your work often, so you can restore any point quickly\n",
    "4. Diffs - select two points in history, and see what changes were made\n",
    "\n",
    "### Also:\n",
    "* Cherry pick parts of changes\n",
    "* Managing several different features (code changes) at the same time\n",
    "* Rebase your somewhat stale code on top of new code from your peers\n",
    "* This is a VERY popular tool for source code management in the industry. Maybe the most pervasive tool of all?\n",
    "* Inspect all changes you've made, and quickly discard changes you no longer need with the RESET command\n",
    "* (this list goes on forever)\n",
    "\n",
    "<hr />\n",
    "\n",
    "# What is GIT?\n",
    "1. The name \"git\" was given by Linus Torvalds when he wrote the very first version. He described the tool as \"the stupid content tracker\"\n",
    "2. GIT is a content versioning system, that tracks deltas (changes) in files\n",
    "3. When you setup GIT, you are enabling tracking for changes in a specific folder on your computer. This is your LOCAL repository\n",
    "4. You manage sharing code by PUSHing code to a REMOTE repo, usually housed on a stable production server/file share\n",
    "\n",
    "<hr />\n",
    "\n",
    "# How do I start using it?\n",
    "1. Download a GIT tool. I recommend Tower. GitExtensions (pc) and SourceTree (mac) are other options. GitHub Desktop is crap (unless you want to never get good at git).\n",
    "\n",
    "2. Hammer into your mind that we will be coordinating 3 repositories for this class:\n",
    "    1. Udacity Remote Repo\n",
    "    2. Cohort's Remote Repo\n",
    "    3. Your personal Local Repo\n",
    "    \n",
    "3. Clone the Udacity Deep Learning Repo to your computer. Cloning is grabbing the latest code from Udacity, and setting up your personal LOCAL repo\n",
    "    * https://github.com/udacity/deep-learning\n",
    "    * Name the Udacity repo: 'udacity' in remote repository settings\n",
    "    \n",
    "4. Add our cohort's repo as another remote respository for the Deep Learning Repo\n",
    "    * In repository settings, add the following remote repo: https://github.com/heyhaydude/udacity-deep-learning\n",
    "    * Name the team repo: 'cohort'\n",
    "\n",
    "5. From the commit where you see remote \"cohort/master\" branch, create a new branch with your name (e.g. 'matt')\n",
    "    * This creates a local branch for you to make your changes on\n",
    "    * When you do work, make sure you are CHECKED OUT on your branch. In general you won't have to worry about this because you won't be checking out other branches.\n",
    "\n",
    "6. Commit often\n",
    "    * Commit changes whenever something meaningful in your coding effort has happened. This allows you to recover when you make mistakes more easily\n",
    "    * Commits only happen locally, and do not affect the REMOTEs\n",
    "    \n",
    "7. Pushing to the COHORT REMOTE repo\n",
    "    * Always PUSH just your one local branch to the COHORT REMOTE repo. \n",
    "    * You should NEVER be pushing to the UDACITY REMOTE repo (unless you want all Udacity students to see your code)\n",
    "        * If you're nervous about this, you can disable the UDACITY REMOTE\n",
    "    \n",
    "8. Fetching others' changes\n",
    "    * There is a command to FETCH code from all of your REMOTES (UDACITY and COHORT). This is how you can retrieve new code from your peers"
   ]
  },
  {
   "cell_type": "markdown",
   "metadata": {},
   "source": [
    "<img src=\"images/remote_repo.png\" alt=\"Remote Repo\" style=\"width: 400px\" align=left \\> "
   ]
  },
  {
   "cell_type": "code",
   "execution_count": null,
   "metadata": {},
   "outputs": [],
   "source": []
  }
 ],
 "metadata": {
  "kernelspec": {
   "display_name": "Python [conda env:mamamatt]",
   "language": "python",
   "name": "conda-env-mamamatt-py"
  },
  "language_info": {
   "codemirror_mode": {
    "name": "ipython",
    "version": 3
   },
   "file_extension": ".py",
   "mimetype": "text/x-python",
   "name": "python",
   "nbconvert_exporter": "python",
   "pygments_lexer": "ipython3",
   "version": "3.6.2"
  }
 },
 "nbformat": 4,
 "nbformat_minor": 2
}
